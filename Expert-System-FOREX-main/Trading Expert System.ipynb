{
 "cells": [
  {
   "cell_type": "code",
   "execution_count": 8,
   "metadata": {
    "ExecuteTime": {
     "end_time": "2023-07-04T11:21:48.862829100Z",
     "start_time": "2023-07-04T11:21:48.802826700Z"
    }
   },
   "outputs": [],
   "source": [
    "from swiplserver import PrologMQI, PrologThread\n",
    "import MetaTrader5 as mt5  # pip install MetaTrader5\n",
    "import pandas as pd  # pip install pandas\n",
    "import plotly.express as px  # pip install plotly\n",
    "from datetime import datetime, timedelta\n",
    "import csv\n",
    "import os\n",
    "import threading\n",
    "import time\n",
    "\n",
    "# credentials\n",
    "path = 'C:\\\\Program Files\\\\\\MetaTrader 5\\\\terminal64.exe'\n",
    "account = 6177262\n",
    "password = 'torsn4qm'\n",
    "server = 'OANDA-Demo-1'\n"
   ]
  },
  {
   "cell_type": "code",
   "execution_count": 9,
   "metadata": {
    "ExecuteTime": {
     "end_time": "2023-07-04T11:21:50.467952500Z",
     "start_time": "2023-07-04T11:21:50.405947900Z"
    }
   },
   "outputs": [],
   "source": [
    "# Function to start Meta Trader 5 (MT5)\n",
    "def start_mt5(username, password, server, path):\n",
    "    uname = int(username)\n",
    "    pword = str(password)\n",
    "    trading_server = str(server)\n",
    "    filepath = str(path)\n",
    "\n",
    "    # Attempt to start MT5\n",
    "    if mt5.initialize(login=uname, password=pword, server=trading_server, path=filepath):\n",
    "        print(\"Trading Bot Starting\")\n",
    "        # Login to MT5\n",
    "        if mt5.login(login=uname, password=pword, server=trading_server):\n",
    "            print(\"Trading Bot Logged in and Ready to Trade!\")\n",
    "\n",
    "            account_info = mt5.account_info()\n",
    "            print(account_info)\n",
    "\n",
    "            # getting specific account data\n",
    "            account_name = account_info.name\n",
    "            login_number = account_info.login\n",
    "            balance = account_info.balance\n",
    "            equity = account_info.equity\n",
    "\n",
    "            print()\n",
    "            print('name: ', account_name)\n",
    "            print('login: ', login_number)\n",
    "            print('balance: ', balance)\n",
    "            print('equity: ', equity)\n",
    "            return True\n",
    "        else:\n",
    "            print(\"Login Fail\")\n",
    "            quit()\n",
    "            return PermissionError\n",
    "    else:\n",
    "        print(\"MT5 Initialization Failed\")\n",
    "        quit()\n",
    "        return ConnectionAbortedError\n",
    "\n",
    "def open_trade(action):\n",
    "    # prepare the buy request structure\n",
    "    symbol = 'EURUSD'\n",
    "\n",
    "    if action == 'buy':\n",
    "        trade_type = mt5.ORDER_TYPE_BUY\n",
    "        price = mt5.symbol_info_tick(symbol).ask\n",
    "    elif action == 'sell':\n",
    "        trade_type = mt5.ORDER_TYPE_SELL\n",
    "        price = mt5.symbol_info_tick(symbol).bid\n",
    "\n",
    "\n",
    "    buy_request = {\n",
    "        \"action\": mt5.TRADE_ACTION_DEAL,\n",
    "        \"symbol\": \"EURUSD\",\n",
    "        \"volume\": 0.1,  # FLOAT\n",
    "        \"type\": trade_type,\n",
    "        \"price\": price,\n",
    "        \"sl\": 0.0,  # FLOAT\n",
    "        \"tp\": 0.0,  # FLOAT\n",
    "        \"deviation\": 20,  # INTERGER\n",
    "        \"magic\": 234000,  # INTERGER\n",
    "        \"comment\": \"python script open\",\n",
    "        \"type_time\": mt5.ORDER_TIME_GTC,\n",
    "        \"type_filling\": mt5.ORDER_FILLING_IOC,\n",
    "    }\n",
    "    # send a trading request\n",
    "    result = mt5.order_send(buy_request)\n",
    "    return result, buy_request\n",
    "\n",
    "\n",
    "def close_trade(ticket, action):\n",
    "    \"\"\"https://www.mql5.com/en/docs/integration/python_metatrader5/mt5ordersend_py\"\"\"\n",
    "    # create a close request\n",
    "    symbol = 'EURUSD'\n",
    "    if action == 'buy':\n",
    "        trade_type = mt5.ORDER_TYPE_BUY\n",
    "        price = mt5.symbol_info_tick(symbol).ask\n",
    "    elif action == 'sell':\n",
    "        trade_type = mt5.ORDER_TYPE_SELL\n",
    "        price = mt5.symbol_info_tick(symbol).bid\n",
    "\n",
    "    close_request = {\n",
    "        \"action\": mt5.TRADE_ACTION_DEAL,\n",
    "        \"symbol\": \"EURUSD\",\n",
    "        \"volume\": 0.1,\n",
    "        \"type\": trade_type,\n",
    "        \"position\": ticket,\n",
    "        \"price\": price,\n",
    "        \"deviation\": 20,\n",
    "        \"magic\": 234000,\n",
    "        \"comment\": \"python script close\",\n",
    "        \"type_time\": mt5.ORDER_TIME_GTC,  # good till cancelled\n",
    "        \"type_filling\": mt5.ORDER_FILLING_IOC,\n",
    "    }\n",
    "    # send a close request\n",
    "    result = mt5.order_send(close_request)\n",
    "    \n",
    "\n",
    "def get_candlestick(timeframe):\n",
    "    # Request the last 60 candlesticks for EURUSD M1\n",
    "\n",
    "    symbol = \"EURUSD\"\n",
    "    timeframe_value = timeframe\n",
    "    # Calculate the start and end time for the last week\n",
    "    end_time = datetime.now()\n",
    "    if timeframe == \"h4\":\n",
    "        timeframe_time = mt5.TIMEFRAME_H4\n",
    "        #start_time = end_time - timedelta(days=15)\n",
    "    elif timeframe == \"h1\":\n",
    "        timeframe_time = mt5.TIMEFRAME_H1\n",
    "        #start_time = end_time - timedelta(days=5)\n",
    "    elif timeframe == \"m15\":\n",
    "        timeframe_time = mt5.TIMEFRAME_M15\n",
    "        #start_time = end_time - timedelta(days=3)\n",
    "\n",
    "    rates = mt5.copy_rates_range(symbol, timeframe_time, datetime(\n",
    "        2023, 5, 23), datetime(2023, 6, 30))\n",
    "\n",
    "    # total_candles = 60\n",
    "    # candlesticks = mt5.copy_rates_from_pos(symbol, timeframe_m1, 0, total_candles)\n",
    "\n",
    "    # Convert the candlestick data to a pandas DataFrame\n",
    "    df = pd.DataFrame(rates)\n",
    "\n",
    "    # Convert the timestamp to a human-readable format\n",
    "    df['time'] = pd.to_datetime(df['time'], unit='s')\n",
    "\n",
    "    fig = px.line(rates, x=df['time'], y=df['close'])\n",
    "    fig.show()\n",
    "\n",
    "    # Rearrange the columns to match the OHLC format\n",
    "    ohlc_data = df[['time', 'open', 'high', 'low', 'close']]\n",
    "\n",
    "    ohlc_data_to_display = df[['time', 'open', 'high', 'low', 'close']]\n",
    "\n",
    "    ohlc_data_to_display.to_csv(\n",
    "        'ohlc_data_with_time.csv', index=True, header=True)\n",
    "\n",
    "    ohlc_data.to_csv('ohlc_data_full.csv', index=False, header=False)\n",
    "\n",
    "    print(ohlc_data_to_display)\n",
    "\n",
    "    return timeframe_value\n"
   ]
  },
  {
   "cell_type": "code",
   "execution_count": 10,
   "metadata": {
    "ExecuteTime": {
     "end_time": "2023-07-04T11:21:51.426024700Z",
     "start_time": "2023-07-04T11:21:51.342018500Z"
    }
   },
   "outputs": [],
   "source": [
    "class PrologThread(threading.Thread):\n",
    "    def __init__(self, prolog_mqi):\n",
    "        super().__init__()\n",
    "        self.prolog_mqi = prolog_mqi\n",
    "        self.expert_result_order = None  # Initialize expert_result attribute\n",
    "        self.expert_result_time = None\n",
    "\n",
    "    def run(self):\n",
    "        with self.prolog_mqi as mqi:\n",
    "            with mqi.create_thread() as prolog_expert_system:\n",
    "                # Consult the file\n",
    "                prolog_expert_system.query(\"consult('main_es.pl')\")\n",
    "\n",
    "                # Query the main/0 predicate\n",
    "                prolog_expert_system.query(\"main.\")\n",
    "                result_order = prolog_expert_system.query(\"fact(order(X))\")\n",
    "                result_time = prolog_expert_system.query(\"fact(close_value(_, Time))\")\n",
    "                self.expert_result_order = result_order[0]['X']     # Store result_order\n",
    "                self.expert_result_time = result_time[0]['Time']    # Store result_time\n",
    "                \n",
    "\n",
    "    def get_expert_result(self):\n",
    "        return self.expert_result_order, self.expert_result_time\n",
    "    \n",
    "\n",
    "def expert_system():\n",
    "    # Create an instance of PrologMQI\n",
    "    prolog_mqi = PrologMQI()\n",
    "\n",
    "    # Create an instance of PrologThread and pass the prolog_mqi instance as an argument\n",
    "    prolog_thread = PrologThread(prolog_mqi)\n",
    "\n",
    "    # Start the thread\n",
    "    prolog_thread.start()\n",
    "\n",
    "    # Wait for the thread to finish\n",
    "    if prolog_thread.join():\n",
    "        time.sleep(1)\n",
    "    \n",
    "    # Retrieve the expert_result using the get_expert_result() method\n",
    "    expert_result_order, expert_result_time = prolog_thread.get_expert_result()\n",
    "    \n",
    "    return expert_result_order, expert_result_time\n"
   ]
  },
  {
   "cell_type": "code",
   "execution_count": 11,
   "metadata": {
    "ExecuteTime": {
     "end_time": "2023-07-04T11:21:52.419097900Z",
     "start_time": "2023-07-04T11:21:52.363095800Z"
    }
   },
   "outputs": [],
   "source": [
    "def extract_rows(timeframe):\n",
    "    input_file = 'ohlc_data_full.csv'\n",
    "    output_file = 'ohlc_data.csv'\n",
    "    \n",
    "    if timeframe == 'h4':\n",
    "        num_rows = 50\n",
    "    elif timeframe == 'h1':\n",
    "        num_rows = 200\n",
    "    elif timeframe == 'm15':\n",
    "        num_rows = 800\n",
    "    \n",
    "    \n",
    "    with open(input_file, 'r') as file:\n",
    "        reader = csv.reader(file)\n",
    "        # Read the specified number of rows\n",
    "        rows = [row for row in reader][:num_rows]\n",
    "\n",
    "    with open(output_file, 'w', newline='') as file:\n",
    "        writer = csv.writer(file)\n",
    "        writer.writerows(rows)  # Write the selected rows\n",
    "\n",
    "    # Update the input file by removing the extracted rows\n",
    "    with open(input_file, 'r') as file:\n",
    "        reader = csv.reader(file)\n",
    "        # Read the remaining rows, skipping the extracted rows\n",
    "        remaining_rows = list(reader)[num_rows:]\n",
    "\n",
    "    with open(input_file, 'w', newline='') as file:\n",
    "        writer = csv.writer(file)\n",
    "        writer.writerows(remaining_rows)  # Write the remaining rows\n",
    "\n",
    "\n",
    "def extract_and_update_data(timeframe):\n",
    "    input_file_full = 'ohlc_data_full.csv'\n",
    "    input_file = 'ohlc_data.csv'\n",
    "    \n",
    "    if timeframe == 'h4':\n",
    "        num_rows = 6\n",
    "    elif timeframe == 'h1':\n",
    "        num_rows = 24\n",
    "    elif timeframe == 'm15':\n",
    "        num_rows = 96\n",
    "\n",
    "    # Check if the input file is empty\n",
    "    if os.path.getsize(input_file_full) == 0:\n",
    "        print(f\"{input_file_full} is empty. Stopping criterion met.\")\n",
    "        return False\n",
    "\n",
    "    # Extract the first six rows from ohlc_data_full.csv\n",
    "    extracted_rows = []\n",
    "    with open(input_file_full, 'r') as file:\n",
    "        reader = csv.reader(file)\n",
    "        extracted_rows = [row for row in reader][:num_rows]\n",
    "\n",
    "    # Read the remaining rows from ohlc_data.csv\n",
    "    remaining_rows = []\n",
    "    with open(input_file, 'r') as file:\n",
    "        reader = csv.reader(file)\n",
    "        remaining_rows = list(reader)[num_rows:]\n",
    "\n",
    "    # Update ohlc_data.csv by shifting remaining rows and inserting extracted rows at the bottom\n",
    "    with open(input_file, 'w', newline='') as file:\n",
    "        writer = csv.writer(file)\n",
    "        writer.writerows(remaining_rows + extracted_rows)\n",
    "\n",
    "    # Remove the first six rows from ohlc_data_full.csv\n",
    "    with open(input_file_full, 'r') as file:\n",
    "        reader = csv.reader(file)\n",
    "        remaining_rows_full = list(reader)[num_rows:]\n",
    "\n",
    "    with open(input_file_full, 'w', newline='') as file:\n",
    "        writer = csv.writer(file)\n",
    "        writer.writerows(remaining_rows_full)\n",
    "\n",
    "    return True\n"
   ]
  },
  {
   "attachments": {},
   "cell_type": "markdown",
   "metadata": {},
   "source": [
    "MAIN FUNCTION:"
   ]
  },
  {
   "cell_type": "code",
   "execution_count": 12,
   "metadata": {
    "ExecuteTime": {
     "end_time": "2023-07-04T11:21:54.424754800Z",
     "start_time": "2023-07-04T11:21:54.407757800Z"
    }
   },
   "outputs": [
    {
     "name": "stdout",
     "output_type": "stream",
     "text": [
      "Trading Bot Starting\n",
      "Trading Bot Logged in and Ready to Trade!\n",
      "AccountInfo(login=6177262, trade_mode=0, leverage=100, limit_orders=0, margin_so_mode=0, trade_allowed=True, trade_expert=True, margin_mode=2, currency_digits=2, fifo_close=False, balance=99936.4, credit=0.0, profit=0.0, equity=99936.4, margin=0.0, margin_free=99936.4, margin_level=0.0, margin_so_call=100.0, margin_so_so=50.0, margin_initial=0.0, margin_maintenance=0.0, assets=0.0, liabilities=0.0, commission_blocked=0.0, name='Jaafar Omar', server='OANDA-Demo-1', currency='USD', company='OANDA Global Markets')\n",
      "\n",
      "name:  Jaafar Omar\n",
      "login:  6177262\n",
      "balance:  99936.4\n",
      "equity:  99936.4\n",
      "0\n",
      "()\n"
     ]
    }
   ],
   "source": [
    "#   Start the MT5\n",
    "start_mt5(account, password, server, path)\n",
    "\n",
    "# total number of positions\n",
    "num_positions = mt5.positions_total()\n",
    "\n",
    "print(num_positions)\n",
    "\n",
    "# list of positions\n",
    "positions = mt5.positions_get()\n",
    "\n",
    "print(positions)\n"
   ]
  },
  {
   "cell_type": "code",
   "execution_count": 13,
   "metadata": {
    "ExecuteTime": {
     "end_time": "2023-07-04T11:21:56.085883300Z",
     "start_time": "2023-07-04T11:21:55.731859700Z"
    }
   },
   "outputs": [
    {
     "data": {
      "application/vnd.plotly.v1+json": {
       "config": {
        "plotlyServerURL": "https://plot.ly"
       },
       "data": [
        {
         "hovertemplate": "x=%{x}<br>y=%{y}<extra></extra>",
         "legendgroup": "",
         "line": {
          "color": "#636efa",
          "dash": "solid"
         },
         "marker": {
          "symbol": "circle"
         },
         "mode": "lines",
         "name": "",
         "orientation": "v",
         "showlegend": false,
         "type": "scatter",
         "x": [
          "2023-05-22T16:00:00",
          "2023-05-22T20:00:00",
          "2023-05-23T00:00:00",
          "2023-05-23T04:00:00",
          "2023-05-23T08:00:00",
          "2023-05-23T12:00:00",
          "2023-05-23T16:00:00",
          "2023-05-23T20:00:00",
          "2023-05-24T00:00:00",
          "2023-05-24T04:00:00",
          "2023-05-24T08:00:00",
          "2023-05-24T12:00:00",
          "2023-05-24T16:00:00",
          "2023-05-24T20:00:00",
          "2023-05-25T00:00:00",
          "2023-05-25T04:00:00",
          "2023-05-25T08:00:00",
          "2023-05-25T12:00:00",
          "2023-05-25T16:00:00",
          "2023-05-25T20:00:00",
          "2023-05-26T00:00:00",
          "2023-05-26T04:00:00",
          "2023-05-26T08:00:00",
          "2023-05-26T12:00:00",
          "2023-05-26T16:00:00",
          "2023-05-26T20:00:00",
          "2023-05-29T00:00:00",
          "2023-05-29T04:00:00",
          "2023-05-29T08:00:00",
          "2023-05-29T12:00:00",
          "2023-05-29T16:00:00",
          "2023-05-29T20:00:00",
          "2023-05-30T00:00:00",
          "2023-05-30T04:00:00",
          "2023-05-30T08:00:00",
          "2023-05-30T12:00:00",
          "2023-05-30T16:00:00",
          "2023-05-30T20:00:00",
          "2023-05-31T00:00:00",
          "2023-05-31T04:00:00",
          "2023-05-31T08:00:00",
          "2023-05-31T12:00:00",
          "2023-05-31T16:00:00",
          "2023-05-31T20:00:00",
          "2023-06-01T00:00:00",
          "2023-06-01T04:00:00",
          "2023-06-01T08:00:00",
          "2023-06-01T12:00:00",
          "2023-06-01T16:00:00",
          "2023-06-01T20:00:00",
          "2023-06-02T00:00:00",
          "2023-06-02T04:00:00",
          "2023-06-02T08:00:00",
          "2023-06-02T12:00:00",
          "2023-06-02T16:00:00",
          "2023-06-02T20:00:00",
          "2023-06-05T00:00:00",
          "2023-06-05T04:00:00",
          "2023-06-05T08:00:00",
          "2023-06-05T12:00:00",
          "2023-06-05T16:00:00",
          "2023-06-05T20:00:00",
          "2023-06-06T00:00:00",
          "2023-06-06T04:00:00",
          "2023-06-06T08:00:00",
          "2023-06-06T12:00:00",
          "2023-06-06T16:00:00",
          "2023-06-06T20:00:00",
          "2023-06-07T00:00:00",
          "2023-06-07T04:00:00",
          "2023-06-07T08:00:00",
          "2023-06-07T12:00:00",
          "2023-06-07T16:00:00",
          "2023-06-07T20:00:00",
          "2023-06-08T00:00:00",
          "2023-06-08T04:00:00",
          "2023-06-08T08:00:00",
          "2023-06-08T12:00:00",
          "2023-06-08T16:00:00",
          "2023-06-08T20:00:00",
          "2023-06-09T00:00:00",
          "2023-06-09T04:00:00",
          "2023-06-09T08:00:00",
          "2023-06-09T12:00:00",
          "2023-06-09T16:00:00",
          "2023-06-09T20:00:00",
          "2023-06-12T00:00:00",
          "2023-06-12T04:00:00",
          "2023-06-12T08:00:00",
          "2023-06-12T12:00:00",
          "2023-06-12T16:00:00",
          "2023-06-12T20:00:00",
          "2023-06-13T00:00:00",
          "2023-06-13T04:00:00",
          "2023-06-13T08:00:00",
          "2023-06-13T12:00:00",
          "2023-06-13T16:00:00",
          "2023-06-13T20:00:00",
          "2023-06-14T00:00:00",
          "2023-06-14T04:00:00",
          "2023-06-14T08:00:00",
          "2023-06-14T12:00:00",
          "2023-06-14T16:00:00",
          "2023-06-14T20:00:00",
          "2023-06-15T00:00:00",
          "2023-06-15T04:00:00",
          "2023-06-15T08:00:00",
          "2023-06-15T12:00:00",
          "2023-06-15T16:00:00",
          "2023-06-15T20:00:00",
          "2023-06-16T00:00:00",
          "2023-06-16T04:00:00",
          "2023-06-16T08:00:00",
          "2023-06-16T12:00:00",
          "2023-06-16T16:00:00",
          "2023-06-16T20:00:00",
          "2023-06-19T00:00:00",
          "2023-06-19T04:00:00",
          "2023-06-19T08:00:00",
          "2023-06-19T12:00:00",
          "2023-06-19T16:00:00",
          "2023-06-19T20:00:00",
          "2023-06-20T00:00:00",
          "2023-06-20T04:00:00",
          "2023-06-20T08:00:00",
          "2023-06-20T12:00:00",
          "2023-06-20T16:00:00",
          "2023-06-20T20:00:00",
          "2023-06-21T00:00:00",
          "2023-06-21T04:00:00",
          "2023-06-21T08:00:00",
          "2023-06-21T12:00:00",
          "2023-06-21T16:00:00",
          "2023-06-21T20:00:00",
          "2023-06-22T00:00:00",
          "2023-06-22T04:00:00",
          "2023-06-22T08:00:00",
          "2023-06-22T12:00:00",
          "2023-06-22T16:00:00",
          "2023-06-22T20:00:00",
          "2023-06-23T00:00:00",
          "2023-06-23T04:00:00",
          "2023-06-23T08:00:00",
          "2023-06-23T12:00:00",
          "2023-06-23T16:00:00",
          "2023-06-23T20:00:00",
          "2023-06-26T00:00:00",
          "2023-06-26T04:00:00",
          "2023-06-26T08:00:00",
          "2023-06-26T12:00:00",
          "2023-06-26T16:00:00",
          "2023-06-26T20:00:00",
          "2023-06-27T00:00:00",
          "2023-06-27T04:00:00",
          "2023-06-27T08:00:00",
          "2023-06-27T12:00:00",
          "2023-06-27T16:00:00",
          "2023-06-27T20:00:00",
          "2023-06-28T00:00:00",
          "2023-06-28T04:00:00",
          "2023-06-28T08:00:00",
          "2023-06-28T12:00:00",
          "2023-06-28T16:00:00",
          "2023-06-28T20:00:00",
          "2023-06-29T00:00:00",
          "2023-06-29T04:00:00",
          "2023-06-29T08:00:00",
          "2023-06-29T12:00:00",
          "2023-06-29T16:00:00"
         ],
         "xaxis": "x",
         "y": [
          1.08094,
          1.08124,
          1.08114,
          1.08099,
          1.08029,
          1.07636,
          1.0766499999999999,
          1.07702,
          1.07721,
          1.07797,
          1.07772,
          1.07893,
          1.07557,
          1.07489,
          1.07501,
          1.07339,
          1.07225,
          1.07179,
          1.07123,
          1.07245,
          1.0725,
          1.07395,
          1.07314,
          1.07416,
          1.07193,
          1.07243,
          1.07196,
          1.07357,
          1.0723799999999999,
          1.07145,
          1.07123,
          1.07086,
          1.07134,
          1.07077,
          1.07041,
          1.07221,
          1.07203,
          1.07336,
          1.07348,
          1.06977,
          1.06593,
          1.06804,
          1.06376,
          1.06882,
          1.06861,
          1.06811,
          1.06862,
          1.07078,
          1.07596,
          1.07618,
          1.07613,
          1.07627,
          1.07739,
          1.07471,
          1.07097,
          1.0707200000000001,
          1.06933,
          1.06996,
          1.06956,
          1.06785,
          1.07112,
          1.07114,
          1.07159,
          1.0723,
          1.0699,
          1.06703,
          1.06881,
          1.06917,
          1.07,
          1.06901,
          1.06927,
          1.07158,
          1.06928,
          1.06981,
          1.07081,
          1.07113,
          1.07263,
          1.07464,
          1.07844,
          1.07821,
          1.07816,
          1.07748,
          1.07631,
          1.07667,
          1.07479,
          1.07489,
          1.07449,
          1.07406,
          1.07768,
          1.07658,
          1.0748199999999999,
          1.07575,
          1.07601,
          1.07817,
          1.0807,
          1.08138,
          1.0802,
          1.07929,
          1.07898,
          1.07892,
          1.08017,
          1.08307,
          1.0862,
          1.08312,
          1.08378,
          1.08111,
          1.08323,
          1.08638,
          1.09434,
          1.0945,
          1.09416,
          1.09384,
          1.09501,
          1.09506,
          1.09336,
          1.09412,
          1.09363,
          1.09343,
          1.09292,
          1.09257,
          1.09158,
          1.09204,
          1.092,
          1.09134,
          1.09376,
          1.0919,
          1.09147,
          1.09174,
          1.09158,
          1.09157,
          1.09246,
          1.0924800000000001,
          1.09702,
          1.0986,
          1.0988,
          1.09867,
          1.09925,
          1.09821,
          1.09542,
          1.09551,
          1.09549,
          1.09327,
          1.08487,
          1.08871,
          1.08854,
          1.08951,
          1.0905,
          1.09022,
          1.08914,
          1.09171,
          1.09083,
          1.09044,
          1.09041,
          1.09228,
          1.09391,
          1.09649,
          1.09584,
          1.09604,
          1.09542,
          1.09483,
          1.09524,
          1.09273,
          1.09105,
          1.0912,
          1.09067,
          1.0885,
          1.0914,
          1.08807,
          1.08704
         ],
         "yaxis": "y"
        }
       ],
       "layout": {
        "legend": {
         "tracegroupgap": 0
        },
        "margin": {
         "t": 60
        },
        "template": {
         "data": {
          "bar": [
           {
            "error_x": {
             "color": "#f2f5fa"
            },
            "error_y": {
             "color": "#f2f5fa"
            },
            "marker": {
             "line": {
              "color": "rgb(17,17,17)",
              "width": 0.5
             },
             "pattern": {
              "fillmode": "overlay",
              "size": 10,
              "solidity": 0.2
             }
            },
            "type": "bar"
           }
          ],
          "barpolar": [
           {
            "marker": {
             "line": {
              "color": "rgb(17,17,17)",
              "width": 0.5
             },
             "pattern": {
              "fillmode": "overlay",
              "size": 10,
              "solidity": 0.2
             }
            },
            "type": "barpolar"
           }
          ],
          "carpet": [
           {
            "aaxis": {
             "endlinecolor": "#A2B1C6",
             "gridcolor": "#506784",
             "linecolor": "#506784",
             "minorgridcolor": "#506784",
             "startlinecolor": "#A2B1C6"
            },
            "baxis": {
             "endlinecolor": "#A2B1C6",
             "gridcolor": "#506784",
             "linecolor": "#506784",
             "minorgridcolor": "#506784",
             "startlinecolor": "#A2B1C6"
            },
            "type": "carpet"
           }
          ],
          "choropleth": [
           {
            "colorbar": {
             "outlinewidth": 0,
             "ticks": ""
            },
            "type": "choropleth"
           }
          ],
          "contour": [
           {
            "colorbar": {
             "outlinewidth": 0,
             "ticks": ""
            },
            "colorscale": [
             [
              0,
              "#0d0887"
             ],
             [
              0.1111111111111111,
              "#46039f"
             ],
             [
              0.2222222222222222,
              "#7201a8"
             ],
             [
              0.3333333333333333,
              "#9c179e"
             ],
             [
              0.4444444444444444,
              "#bd3786"
             ],
             [
              0.5555555555555556,
              "#d8576b"
             ],
             [
              0.6666666666666666,
              "#ed7953"
             ],
             [
              0.7777777777777778,
              "#fb9f3a"
             ],
             [
              0.8888888888888888,
              "#fdca26"
             ],
             [
              1,
              "#f0f921"
             ]
            ],
            "type": "contour"
           }
          ],
          "contourcarpet": [
           {
            "colorbar": {
             "outlinewidth": 0,
             "ticks": ""
            },
            "type": "contourcarpet"
           }
          ],
          "heatmap": [
           {
            "colorbar": {
             "outlinewidth": 0,
             "ticks": ""
            },
            "colorscale": [
             [
              0,
              "#0d0887"
             ],
             [
              0.1111111111111111,
              "#46039f"
             ],
             [
              0.2222222222222222,
              "#7201a8"
             ],
             [
              0.3333333333333333,
              "#9c179e"
             ],
             [
              0.4444444444444444,
              "#bd3786"
             ],
             [
              0.5555555555555556,
              "#d8576b"
             ],
             [
              0.6666666666666666,
              "#ed7953"
             ],
             [
              0.7777777777777778,
              "#fb9f3a"
             ],
             [
              0.8888888888888888,
              "#fdca26"
             ],
             [
              1,
              "#f0f921"
             ]
            ],
            "type": "heatmap"
           }
          ],
          "heatmapgl": [
           {
            "colorbar": {
             "outlinewidth": 0,
             "ticks": ""
            },
            "colorscale": [
             [
              0,
              "#0d0887"
             ],
             [
              0.1111111111111111,
              "#46039f"
             ],
             [
              0.2222222222222222,
              "#7201a8"
             ],
             [
              0.3333333333333333,
              "#9c179e"
             ],
             [
              0.4444444444444444,
              "#bd3786"
             ],
             [
              0.5555555555555556,
              "#d8576b"
             ],
             [
              0.6666666666666666,
              "#ed7953"
             ],
             [
              0.7777777777777778,
              "#fb9f3a"
             ],
             [
              0.8888888888888888,
              "#fdca26"
             ],
             [
              1,
              "#f0f921"
             ]
            ],
            "type": "heatmapgl"
           }
          ],
          "histogram": [
           {
            "marker": {
             "pattern": {
              "fillmode": "overlay",
              "size": 10,
              "solidity": 0.2
             }
            },
            "type": "histogram"
           }
          ],
          "histogram2d": [
           {
            "colorbar": {
             "outlinewidth": 0,
             "ticks": ""
            },
            "colorscale": [
             [
              0,
              "#0d0887"
             ],
             [
              0.1111111111111111,
              "#46039f"
             ],
             [
              0.2222222222222222,
              "#7201a8"
             ],
             [
              0.3333333333333333,
              "#9c179e"
             ],
             [
              0.4444444444444444,
              "#bd3786"
             ],
             [
              0.5555555555555556,
              "#d8576b"
             ],
             [
              0.6666666666666666,
              "#ed7953"
             ],
             [
              0.7777777777777778,
              "#fb9f3a"
             ],
             [
              0.8888888888888888,
              "#fdca26"
             ],
             [
              1,
              "#f0f921"
             ]
            ],
            "type": "histogram2d"
           }
          ],
          "histogram2dcontour": [
           {
            "colorbar": {
             "outlinewidth": 0,
             "ticks": ""
            },
            "colorscale": [
             [
              0,
              "#0d0887"
             ],
             [
              0.1111111111111111,
              "#46039f"
             ],
             [
              0.2222222222222222,
              "#7201a8"
             ],
             [
              0.3333333333333333,
              "#9c179e"
             ],
             [
              0.4444444444444444,
              "#bd3786"
             ],
             [
              0.5555555555555556,
              "#d8576b"
             ],
             [
              0.6666666666666666,
              "#ed7953"
             ],
             [
              0.7777777777777778,
              "#fb9f3a"
             ],
             [
              0.8888888888888888,
              "#fdca26"
             ],
             [
              1,
              "#f0f921"
             ]
            ],
            "type": "histogram2dcontour"
           }
          ],
          "mesh3d": [
           {
            "colorbar": {
             "outlinewidth": 0,
             "ticks": ""
            },
            "type": "mesh3d"
           }
          ],
          "parcoords": [
           {
            "line": {
             "colorbar": {
              "outlinewidth": 0,
              "ticks": ""
             }
            },
            "type": "parcoords"
           }
          ],
          "pie": [
           {
            "automargin": true,
            "type": "pie"
           }
          ],
          "scatter": [
           {
            "marker": {
             "line": {
              "color": "#283442"
             }
            },
            "type": "scatter"
           }
          ],
          "scatter3d": [
           {
            "line": {
             "colorbar": {
              "outlinewidth": 0,
              "ticks": ""
             }
            },
            "marker": {
             "colorbar": {
              "outlinewidth": 0,
              "ticks": ""
             }
            },
            "type": "scatter3d"
           }
          ],
          "scattercarpet": [
           {
            "marker": {
             "colorbar": {
              "outlinewidth": 0,
              "ticks": ""
             }
            },
            "type": "scattercarpet"
           }
          ],
          "scattergeo": [
           {
            "marker": {
             "colorbar": {
              "outlinewidth": 0,
              "ticks": ""
             }
            },
            "type": "scattergeo"
           }
          ],
          "scattergl": [
           {
            "marker": {
             "line": {
              "color": "#283442"
             }
            },
            "type": "scattergl"
           }
          ],
          "scattermapbox": [
           {
            "marker": {
             "colorbar": {
              "outlinewidth": 0,
              "ticks": ""
             }
            },
            "type": "scattermapbox"
           }
          ],
          "scatterpolar": [
           {
            "marker": {
             "colorbar": {
              "outlinewidth": 0,
              "ticks": ""
             }
            },
            "type": "scatterpolar"
           }
          ],
          "scatterpolargl": [
           {
            "marker": {
             "colorbar": {
              "outlinewidth": 0,
              "ticks": ""
             }
            },
            "type": "scatterpolargl"
           }
          ],
          "scatterternary": [
           {
            "marker": {
             "colorbar": {
              "outlinewidth": 0,
              "ticks": ""
             }
            },
            "type": "scatterternary"
           }
          ],
          "surface": [
           {
            "colorbar": {
             "outlinewidth": 0,
             "ticks": ""
            },
            "colorscale": [
             [
              0,
              "#0d0887"
             ],
             [
              0.1111111111111111,
              "#46039f"
             ],
             [
              0.2222222222222222,
              "#7201a8"
             ],
             [
              0.3333333333333333,
              "#9c179e"
             ],
             [
              0.4444444444444444,
              "#bd3786"
             ],
             [
              0.5555555555555556,
              "#d8576b"
             ],
             [
              0.6666666666666666,
              "#ed7953"
             ],
             [
              0.7777777777777778,
              "#fb9f3a"
             ],
             [
              0.8888888888888888,
              "#fdca26"
             ],
             [
              1,
              "#f0f921"
             ]
            ],
            "type": "surface"
           }
          ],
          "table": [
           {
            "cells": {
             "fill": {
              "color": "#506784"
             },
             "line": {
              "color": "rgb(17,17,17)"
             }
            },
            "header": {
             "fill": {
              "color": "#2a3f5f"
             },
             "line": {
              "color": "rgb(17,17,17)"
             }
            },
            "type": "table"
           }
          ]
         },
         "layout": {
          "annotationdefaults": {
           "arrowcolor": "#f2f5fa",
           "arrowhead": 0,
           "arrowwidth": 1
          },
          "autotypenumbers": "strict",
          "coloraxis": {
           "colorbar": {
            "outlinewidth": 0,
            "ticks": ""
           }
          },
          "colorscale": {
           "diverging": [
            [
             0,
             "#8e0152"
            ],
            [
             0.1,
             "#c51b7d"
            ],
            [
             0.2,
             "#de77ae"
            ],
            [
             0.3,
             "#f1b6da"
            ],
            [
             0.4,
             "#fde0ef"
            ],
            [
             0.5,
             "#f7f7f7"
            ],
            [
             0.6,
             "#e6f5d0"
            ],
            [
             0.7,
             "#b8e186"
            ],
            [
             0.8,
             "#7fbc41"
            ],
            [
             0.9,
             "#4d9221"
            ],
            [
             1,
             "#276419"
            ]
           ],
           "sequential": [
            [
             0,
             "#0d0887"
            ],
            [
             0.1111111111111111,
             "#46039f"
            ],
            [
             0.2222222222222222,
             "#7201a8"
            ],
            [
             0.3333333333333333,
             "#9c179e"
            ],
            [
             0.4444444444444444,
             "#bd3786"
            ],
            [
             0.5555555555555556,
             "#d8576b"
            ],
            [
             0.6666666666666666,
             "#ed7953"
            ],
            [
             0.7777777777777778,
             "#fb9f3a"
            ],
            [
             0.8888888888888888,
             "#fdca26"
            ],
            [
             1,
             "#f0f921"
            ]
           ],
           "sequentialminus": [
            [
             0,
             "#0d0887"
            ],
            [
             0.1111111111111111,
             "#46039f"
            ],
            [
             0.2222222222222222,
             "#7201a8"
            ],
            [
             0.3333333333333333,
             "#9c179e"
            ],
            [
             0.4444444444444444,
             "#bd3786"
            ],
            [
             0.5555555555555556,
             "#d8576b"
            ],
            [
             0.6666666666666666,
             "#ed7953"
            ],
            [
             0.7777777777777778,
             "#fb9f3a"
            ],
            [
             0.8888888888888888,
             "#fdca26"
            ],
            [
             1,
             "#f0f921"
            ]
           ]
          },
          "colorway": [
           "#636efa",
           "#EF553B",
           "#00cc96",
           "#ab63fa",
           "#FFA15A",
           "#19d3f3",
           "#FF6692",
           "#B6E880",
           "#FF97FF",
           "#FECB52"
          ],
          "font": {
           "color": "#f2f5fa"
          },
          "geo": {
           "bgcolor": "rgb(17,17,17)",
           "lakecolor": "rgb(17,17,17)",
           "landcolor": "rgb(17,17,17)",
           "showlakes": true,
           "showland": true,
           "subunitcolor": "#506784"
          },
          "hoverlabel": {
           "align": "left"
          },
          "hovermode": "closest",
          "mapbox": {
           "style": "dark"
          },
          "paper_bgcolor": "rgb(17,17,17)",
          "plot_bgcolor": "rgb(17,17,17)",
          "polar": {
           "angularaxis": {
            "gridcolor": "#506784",
            "linecolor": "#506784",
            "ticks": ""
           },
           "bgcolor": "rgb(17,17,17)",
           "radialaxis": {
            "gridcolor": "#506784",
            "linecolor": "#506784",
            "ticks": ""
           }
          },
          "scene": {
           "xaxis": {
            "backgroundcolor": "rgb(17,17,17)",
            "gridcolor": "#506784",
            "gridwidth": 2,
            "linecolor": "#506784",
            "showbackground": true,
            "ticks": "",
            "zerolinecolor": "#C8D4E3"
           },
           "yaxis": {
            "backgroundcolor": "rgb(17,17,17)",
            "gridcolor": "#506784",
            "gridwidth": 2,
            "linecolor": "#506784",
            "showbackground": true,
            "ticks": "",
            "zerolinecolor": "#C8D4E3"
           },
           "zaxis": {
            "backgroundcolor": "rgb(17,17,17)",
            "gridcolor": "#506784",
            "gridwidth": 2,
            "linecolor": "#506784",
            "showbackground": true,
            "ticks": "",
            "zerolinecolor": "#C8D4E3"
           }
          },
          "shapedefaults": {
           "line": {
            "color": "#f2f5fa"
           }
          },
          "sliderdefaults": {
           "bgcolor": "#C8D4E3",
           "bordercolor": "rgb(17,17,17)",
           "borderwidth": 1,
           "tickwidth": 0
          },
          "ternary": {
           "aaxis": {
            "gridcolor": "#506784",
            "linecolor": "#506784",
            "ticks": ""
           },
           "baxis": {
            "gridcolor": "#506784",
            "linecolor": "#506784",
            "ticks": ""
           },
           "bgcolor": "rgb(17,17,17)",
           "caxis": {
            "gridcolor": "#506784",
            "linecolor": "#506784",
            "ticks": ""
           }
          },
          "title": {
           "x": 0.05
          },
          "updatemenudefaults": {
           "bgcolor": "#506784",
           "borderwidth": 0
          },
          "xaxis": {
           "automargin": true,
           "gridcolor": "#283442",
           "linecolor": "#506784",
           "ticks": "",
           "title": {
            "standoff": 15
           },
           "zerolinecolor": "#283442",
           "zerolinewidth": 2
          },
          "yaxis": {
           "automargin": true,
           "gridcolor": "#283442",
           "linecolor": "#506784",
           "ticks": "",
           "title": {
            "standoff": 15
           },
           "zerolinecolor": "#283442",
           "zerolinewidth": 2
          }
         }
        },
        "xaxis": {
         "anchor": "y",
         "domain": [
          0,
          1
         ],
         "title": {
          "text": "x"
         }
        },
        "yaxis": {
         "anchor": "x",
         "domain": [
          0,
          1
         ],
         "title": {
          "text": "y"
         }
        }
       }
      },
      "text/html": [
       "<div>                            <div id=\"4015186e-633c-4cfc-a9dc-e1e23579f68a\" class=\"plotly-graph-div\" style=\"height:525px; width:100%;\"></div>            <script type=\"text/javascript\">                require([\"plotly\"], function(Plotly) {                    window.PLOTLYENV=window.PLOTLYENV || {};                                    if (document.getElementById(\"4015186e-633c-4cfc-a9dc-e1e23579f68a\")) {                    Plotly.newPlot(                        \"4015186e-633c-4cfc-a9dc-e1e23579f68a\",                        [{\"hovertemplate\":\"x=%{x}<br>y=%{y}<extra></extra>\",\"legendgroup\":\"\",\"line\":{\"color\":\"#636efa\",\"dash\":\"solid\"},\"marker\":{\"symbol\":\"circle\"},\"mode\":\"lines\",\"name\":\"\",\"orientation\":\"v\",\"showlegend\":false,\"x\":[\"2023-05-22T16:00:00\",\"2023-05-22T20:00:00\",\"2023-05-23T00:00:00\",\"2023-05-23T04:00:00\",\"2023-05-23T08:00:00\",\"2023-05-23T12:00:00\",\"2023-05-23T16:00:00\",\"2023-05-23T20:00:00\",\"2023-05-24T00:00:00\",\"2023-05-24T04:00:00\",\"2023-05-24T08:00:00\",\"2023-05-24T12:00:00\",\"2023-05-24T16:00:00\",\"2023-05-24T20:00:00\",\"2023-05-25T00:00:00\",\"2023-05-25T04:00:00\",\"2023-05-25T08:00:00\",\"2023-05-25T12:00:00\",\"2023-05-25T16:00:00\",\"2023-05-25T20:00:00\",\"2023-05-26T00:00:00\",\"2023-05-26T04:00:00\",\"2023-05-26T08:00:00\",\"2023-05-26T12:00:00\",\"2023-05-26T16:00:00\",\"2023-05-26T20:00:00\",\"2023-05-29T00:00:00\",\"2023-05-29T04:00:00\",\"2023-05-29T08:00:00\",\"2023-05-29T12:00:00\",\"2023-05-29T16:00:00\",\"2023-05-29T20:00:00\",\"2023-05-30T00:00:00\",\"2023-05-30T04:00:00\",\"2023-05-30T08:00:00\",\"2023-05-30T12:00:00\",\"2023-05-30T16:00:00\",\"2023-05-30T20:00:00\",\"2023-05-31T00:00:00\",\"2023-05-31T04:00:00\",\"2023-05-31T08:00:00\",\"2023-05-31T12:00:00\",\"2023-05-31T16:00:00\",\"2023-05-31T20:00:00\",\"2023-06-01T00:00:00\",\"2023-06-01T04:00:00\",\"2023-06-01T08:00:00\",\"2023-06-01T12:00:00\",\"2023-06-01T16:00:00\",\"2023-06-01T20:00:00\",\"2023-06-02T00:00:00\",\"2023-06-02T04:00:00\",\"2023-06-02T08:00:00\",\"2023-06-02T12:00:00\",\"2023-06-02T16:00:00\",\"2023-06-02T20:00:00\",\"2023-06-05T00:00:00\",\"2023-06-05T04:00:00\",\"2023-06-05T08:00:00\",\"2023-06-05T12:00:00\",\"2023-06-05T16:00:00\",\"2023-06-05T20:00:00\",\"2023-06-06T00:00:00\",\"2023-06-06T04:00:00\",\"2023-06-06T08:00:00\",\"2023-06-06T12:00:00\",\"2023-06-06T16:00:00\",\"2023-06-06T20:00:00\",\"2023-06-07T00:00:00\",\"2023-06-07T04:00:00\",\"2023-06-07T08:00:00\",\"2023-06-07T12:00:00\",\"2023-06-07T16:00:00\",\"2023-06-07T20:00:00\",\"2023-06-08T00:00:00\",\"2023-06-08T04:00:00\",\"2023-06-08T08:00:00\",\"2023-06-08T12:00:00\",\"2023-06-08T16:00:00\",\"2023-06-08T20:00:00\",\"2023-06-09T00:00:00\",\"2023-06-09T04:00:00\",\"2023-06-09T08:00:00\",\"2023-06-09T12:00:00\",\"2023-06-09T16:00:00\",\"2023-06-09T20:00:00\",\"2023-06-12T00:00:00\",\"2023-06-12T04:00:00\",\"2023-06-12T08:00:00\",\"2023-06-12T12:00:00\",\"2023-06-12T16:00:00\",\"2023-06-12T20:00:00\",\"2023-06-13T00:00:00\",\"2023-06-13T04:00:00\",\"2023-06-13T08:00:00\",\"2023-06-13T12:00:00\",\"2023-06-13T16:00:00\",\"2023-06-13T20:00:00\",\"2023-06-14T00:00:00\",\"2023-06-14T04:00:00\",\"2023-06-14T08:00:00\",\"2023-06-14T12:00:00\",\"2023-06-14T16:00:00\",\"2023-06-14T20:00:00\",\"2023-06-15T00:00:00\",\"2023-06-15T04:00:00\",\"2023-06-15T08:00:00\",\"2023-06-15T12:00:00\",\"2023-06-15T16:00:00\",\"2023-06-15T20:00:00\",\"2023-06-16T00:00:00\",\"2023-06-16T04:00:00\",\"2023-06-16T08:00:00\",\"2023-06-16T12:00:00\",\"2023-06-16T16:00:00\",\"2023-06-16T20:00:00\",\"2023-06-19T00:00:00\",\"2023-06-19T04:00:00\",\"2023-06-19T08:00:00\",\"2023-06-19T12:00:00\",\"2023-06-19T16:00:00\",\"2023-06-19T20:00:00\",\"2023-06-20T00:00:00\",\"2023-06-20T04:00:00\",\"2023-06-20T08:00:00\",\"2023-06-20T12:00:00\",\"2023-06-20T16:00:00\",\"2023-06-20T20:00:00\",\"2023-06-21T00:00:00\",\"2023-06-21T04:00:00\",\"2023-06-21T08:00:00\",\"2023-06-21T12:00:00\",\"2023-06-21T16:00:00\",\"2023-06-21T20:00:00\",\"2023-06-22T00:00:00\",\"2023-06-22T04:00:00\",\"2023-06-22T08:00:00\",\"2023-06-22T12:00:00\",\"2023-06-22T16:00:00\",\"2023-06-22T20:00:00\",\"2023-06-23T00:00:00\",\"2023-06-23T04:00:00\",\"2023-06-23T08:00:00\",\"2023-06-23T12:00:00\",\"2023-06-23T16:00:00\",\"2023-06-23T20:00:00\",\"2023-06-26T00:00:00\",\"2023-06-26T04:00:00\",\"2023-06-26T08:00:00\",\"2023-06-26T12:00:00\",\"2023-06-26T16:00:00\",\"2023-06-26T20:00:00\",\"2023-06-27T00:00:00\",\"2023-06-27T04:00:00\",\"2023-06-27T08:00:00\",\"2023-06-27T12:00:00\",\"2023-06-27T16:00:00\",\"2023-06-27T20:00:00\",\"2023-06-28T00:00:00\",\"2023-06-28T04:00:00\",\"2023-06-28T08:00:00\",\"2023-06-28T12:00:00\",\"2023-06-28T16:00:00\",\"2023-06-28T20:00:00\",\"2023-06-29T00:00:00\",\"2023-06-29T04:00:00\",\"2023-06-29T08:00:00\",\"2023-06-29T12:00:00\",\"2023-06-29T16:00:00\"],\"xaxis\":\"x\",\"y\":[1.08094,1.08124,1.08114,1.08099,1.08029,1.07636,1.0766499999999999,1.07702,1.07721,1.07797,1.07772,1.07893,1.07557,1.07489,1.07501,1.07339,1.07225,1.07179,1.07123,1.07245,1.0725,1.07395,1.07314,1.07416,1.07193,1.07243,1.07196,1.07357,1.0723799999999999,1.07145,1.07123,1.07086,1.07134,1.07077,1.07041,1.07221,1.07203,1.07336,1.07348,1.06977,1.06593,1.06804,1.06376,1.06882,1.06861,1.06811,1.06862,1.07078,1.07596,1.07618,1.07613,1.07627,1.07739,1.07471,1.07097,1.0707200000000001,1.06933,1.06996,1.06956,1.06785,1.07112,1.07114,1.07159,1.0723,1.0699,1.06703,1.06881,1.06917,1.07,1.06901,1.06927,1.07158,1.06928,1.06981,1.07081,1.07113,1.07263,1.07464,1.07844,1.07821,1.07816,1.07748,1.07631,1.07667,1.07479,1.07489,1.07449,1.07406,1.07768,1.07658,1.0748199999999999,1.07575,1.07601,1.07817,1.0807,1.08138,1.0802,1.07929,1.07898,1.07892,1.08017,1.08307,1.0862,1.08312,1.08378,1.08111,1.08323,1.08638,1.09434,1.0945,1.09416,1.09384,1.09501,1.09506,1.09336,1.09412,1.09363,1.09343,1.09292,1.09257,1.09158,1.09204,1.092,1.09134,1.09376,1.0919,1.09147,1.09174,1.09158,1.09157,1.09246,1.0924800000000001,1.09702,1.0986,1.0988,1.09867,1.09925,1.09821,1.09542,1.09551,1.09549,1.09327,1.08487,1.08871,1.08854,1.08951,1.0905,1.09022,1.08914,1.09171,1.09083,1.09044,1.09041,1.09228,1.09391,1.09649,1.09584,1.09604,1.09542,1.09483,1.09524,1.09273,1.09105,1.0912,1.09067,1.0885,1.0914,1.08807,1.08704],\"yaxis\":\"y\",\"type\":\"scatter\"}],                        {\"template\":{\"data\":{\"histogram2dcontour\":[{\"type\":\"histogram2dcontour\",\"colorbar\":{\"outlinewidth\":0,\"ticks\":\"\"},\"colorscale\":[[0.0,\"#0d0887\"],[0.1111111111111111,\"#46039f\"],[0.2222222222222222,\"#7201a8\"],[0.3333333333333333,\"#9c179e\"],[0.4444444444444444,\"#bd3786\"],[0.5555555555555556,\"#d8576b\"],[0.6666666666666666,\"#ed7953\"],[0.7777777777777778,\"#fb9f3a\"],[0.8888888888888888,\"#fdca26\"],[1.0,\"#f0f921\"]]}],\"choropleth\":[{\"type\":\"choropleth\",\"colorbar\":{\"outlinewidth\":0,\"ticks\":\"\"}}],\"histogram2d\":[{\"type\":\"histogram2d\",\"colorbar\":{\"outlinewidth\":0,\"ticks\":\"\"},\"colorscale\":[[0.0,\"#0d0887\"],[0.1111111111111111,\"#46039f\"],[0.2222222222222222,\"#7201a8\"],[0.3333333333333333,\"#9c179e\"],[0.4444444444444444,\"#bd3786\"],[0.5555555555555556,\"#d8576b\"],[0.6666666666666666,\"#ed7953\"],[0.7777777777777778,\"#fb9f3a\"],[0.8888888888888888,\"#fdca26\"],[1.0,\"#f0f921\"]]}],\"heatmap\":[{\"type\":\"heatmap\",\"colorbar\":{\"outlinewidth\":0,\"ticks\":\"\"},\"colorscale\":[[0.0,\"#0d0887\"],[0.1111111111111111,\"#46039f\"],[0.2222222222222222,\"#7201a8\"],[0.3333333333333333,\"#9c179e\"],[0.4444444444444444,\"#bd3786\"],[0.5555555555555556,\"#d8576b\"],[0.6666666666666666,\"#ed7953\"],[0.7777777777777778,\"#fb9f3a\"],[0.8888888888888888,\"#fdca26\"],[1.0,\"#f0f921\"]]}],\"heatmapgl\":[{\"type\":\"heatmapgl\",\"colorbar\":{\"outlinewidth\":0,\"ticks\":\"\"},\"colorscale\":[[0.0,\"#0d0887\"],[0.1111111111111111,\"#46039f\"],[0.2222222222222222,\"#7201a8\"],[0.3333333333333333,\"#9c179e\"],[0.4444444444444444,\"#bd3786\"],[0.5555555555555556,\"#d8576b\"],[0.6666666666666666,\"#ed7953\"],[0.7777777777777778,\"#fb9f3a\"],[0.8888888888888888,\"#fdca26\"],[1.0,\"#f0f921\"]]}],\"contourcarpet\":[{\"type\":\"contourcarpet\",\"colorbar\":{\"outlinewidth\":0,\"ticks\":\"\"}}],\"contour\":[{\"type\":\"contour\",\"colorbar\":{\"outlinewidth\":0,\"ticks\":\"\"},\"colorscale\":[[0.0,\"#0d0887\"],[0.1111111111111111,\"#46039f\"],[0.2222222222222222,\"#7201a8\"],[0.3333333333333333,\"#9c179e\"],[0.4444444444444444,\"#bd3786\"],[0.5555555555555556,\"#d8576b\"],[0.6666666666666666,\"#ed7953\"],[0.7777777777777778,\"#fb9f3a\"],[0.8888888888888888,\"#fdca26\"],[1.0,\"#f0f921\"]]}],\"surface\":[{\"type\":\"surface\",\"colorbar\":{\"outlinewidth\":0,\"ticks\":\"\"},\"colorscale\":[[0.0,\"#0d0887\"],[0.1111111111111111,\"#46039f\"],[0.2222222222222222,\"#7201a8\"],[0.3333333333333333,\"#9c179e\"],[0.4444444444444444,\"#bd3786\"],[0.5555555555555556,\"#d8576b\"],[0.6666666666666666,\"#ed7953\"],[0.7777777777777778,\"#fb9f3a\"],[0.8888888888888888,\"#fdca26\"],[1.0,\"#f0f921\"]]}],\"mesh3d\":[{\"type\":\"mesh3d\",\"colorbar\":{\"outlinewidth\":0,\"ticks\":\"\"}}],\"scatter\":[{\"marker\":{\"line\":{\"color\":\"#283442\"}},\"type\":\"scatter\"}],\"parcoords\":[{\"type\":\"parcoords\",\"line\":{\"colorbar\":{\"outlinewidth\":0,\"ticks\":\"\"}}}],\"scatterpolargl\":[{\"type\":\"scatterpolargl\",\"marker\":{\"colorbar\":{\"outlinewidth\":0,\"ticks\":\"\"}}}],\"bar\":[{\"error_x\":{\"color\":\"#f2f5fa\"},\"error_y\":{\"color\":\"#f2f5fa\"},\"marker\":{\"line\":{\"color\":\"rgb(17,17,17)\",\"width\":0.5},\"pattern\":{\"fillmode\":\"overlay\",\"size\":10,\"solidity\":0.2}},\"type\":\"bar\"}],\"scattergeo\":[{\"type\":\"scattergeo\",\"marker\":{\"colorbar\":{\"outlinewidth\":0,\"ticks\":\"\"}}}],\"scatterpolar\":[{\"type\":\"scatterpolar\",\"marker\":{\"colorbar\":{\"outlinewidth\":0,\"ticks\":\"\"}}}],\"histogram\":[{\"marker\":{\"pattern\":{\"fillmode\":\"overlay\",\"size\":10,\"solidity\":0.2}},\"type\":\"histogram\"}],\"scattergl\":[{\"marker\":{\"line\":{\"color\":\"#283442\"}},\"type\":\"scattergl\"}],\"scatter3d\":[{\"type\":\"scatter3d\",\"line\":{\"colorbar\":{\"outlinewidth\":0,\"ticks\":\"\"}},\"marker\":{\"colorbar\":{\"outlinewidth\":0,\"ticks\":\"\"}}}],\"scattermapbox\":[{\"type\":\"scattermapbox\",\"marker\":{\"colorbar\":{\"outlinewidth\":0,\"ticks\":\"\"}}}],\"scatterternary\":[{\"type\":\"scatterternary\",\"marker\":{\"colorbar\":{\"outlinewidth\":0,\"ticks\":\"\"}}}],\"scattercarpet\":[{\"type\":\"scattercarpet\",\"marker\":{\"colorbar\":{\"outlinewidth\":0,\"ticks\":\"\"}}}],\"carpet\":[{\"aaxis\":{\"endlinecolor\":\"#A2B1C6\",\"gridcolor\":\"#506784\",\"linecolor\":\"#506784\",\"minorgridcolor\":\"#506784\",\"startlinecolor\":\"#A2B1C6\"},\"baxis\":{\"endlinecolor\":\"#A2B1C6\",\"gridcolor\":\"#506784\",\"linecolor\":\"#506784\",\"minorgridcolor\":\"#506784\",\"startlinecolor\":\"#A2B1C6\"},\"type\":\"carpet\"}],\"table\":[{\"cells\":{\"fill\":{\"color\":\"#506784\"},\"line\":{\"color\":\"rgb(17,17,17)\"}},\"header\":{\"fill\":{\"color\":\"#2a3f5f\"},\"line\":{\"color\":\"rgb(17,17,17)\"}},\"type\":\"table\"}],\"barpolar\":[{\"marker\":{\"line\":{\"color\":\"rgb(17,17,17)\",\"width\":0.5},\"pattern\":{\"fillmode\":\"overlay\",\"size\":10,\"solidity\":0.2}},\"type\":\"barpolar\"}],\"pie\":[{\"automargin\":true,\"type\":\"pie\"}]},\"layout\":{\"autotypenumbers\":\"strict\",\"colorway\":[\"#636efa\",\"#EF553B\",\"#00cc96\",\"#ab63fa\",\"#FFA15A\",\"#19d3f3\",\"#FF6692\",\"#B6E880\",\"#FF97FF\",\"#FECB52\"],\"font\":{\"color\":\"#f2f5fa\"},\"hovermode\":\"closest\",\"hoverlabel\":{\"align\":\"left\"},\"paper_bgcolor\":\"rgb(17,17,17)\",\"plot_bgcolor\":\"rgb(17,17,17)\",\"polar\":{\"bgcolor\":\"rgb(17,17,17)\",\"angularaxis\":{\"gridcolor\":\"#506784\",\"linecolor\":\"#506784\",\"ticks\":\"\"},\"radialaxis\":{\"gridcolor\":\"#506784\",\"linecolor\":\"#506784\",\"ticks\":\"\"}},\"ternary\":{\"bgcolor\":\"rgb(17,17,17)\",\"aaxis\":{\"gridcolor\":\"#506784\",\"linecolor\":\"#506784\",\"ticks\":\"\"},\"baxis\":{\"gridcolor\":\"#506784\",\"linecolor\":\"#506784\",\"ticks\":\"\"},\"caxis\":{\"gridcolor\":\"#506784\",\"linecolor\":\"#506784\",\"ticks\":\"\"}},\"coloraxis\":{\"colorbar\":{\"outlinewidth\":0,\"ticks\":\"\"}},\"colorscale\":{\"sequential\":[[0.0,\"#0d0887\"],[0.1111111111111111,\"#46039f\"],[0.2222222222222222,\"#7201a8\"],[0.3333333333333333,\"#9c179e\"],[0.4444444444444444,\"#bd3786\"],[0.5555555555555556,\"#d8576b\"],[0.6666666666666666,\"#ed7953\"],[0.7777777777777778,\"#fb9f3a\"],[0.8888888888888888,\"#fdca26\"],[1.0,\"#f0f921\"]],\"sequentialminus\":[[0.0,\"#0d0887\"],[0.1111111111111111,\"#46039f\"],[0.2222222222222222,\"#7201a8\"],[0.3333333333333333,\"#9c179e\"],[0.4444444444444444,\"#bd3786\"],[0.5555555555555556,\"#d8576b\"],[0.6666666666666666,\"#ed7953\"],[0.7777777777777778,\"#fb9f3a\"],[0.8888888888888888,\"#fdca26\"],[1.0,\"#f0f921\"]],\"diverging\":[[0,\"#8e0152\"],[0.1,\"#c51b7d\"],[0.2,\"#de77ae\"],[0.3,\"#f1b6da\"],[0.4,\"#fde0ef\"],[0.5,\"#f7f7f7\"],[0.6,\"#e6f5d0\"],[0.7,\"#b8e186\"],[0.8,\"#7fbc41\"],[0.9,\"#4d9221\"],[1,\"#276419\"]]},\"xaxis\":{\"gridcolor\":\"#283442\",\"linecolor\":\"#506784\",\"ticks\":\"\",\"title\":{\"standoff\":15},\"zerolinecolor\":\"#283442\",\"automargin\":true,\"zerolinewidth\":2},\"yaxis\":{\"gridcolor\":\"#283442\",\"linecolor\":\"#506784\",\"ticks\":\"\",\"title\":{\"standoff\":15},\"zerolinecolor\":\"#283442\",\"automargin\":true,\"zerolinewidth\":2},\"scene\":{\"xaxis\":{\"backgroundcolor\":\"rgb(17,17,17)\",\"gridcolor\":\"#506784\",\"linecolor\":\"#506784\",\"showbackground\":true,\"ticks\":\"\",\"zerolinecolor\":\"#C8D4E3\",\"gridwidth\":2},\"yaxis\":{\"backgroundcolor\":\"rgb(17,17,17)\",\"gridcolor\":\"#506784\",\"linecolor\":\"#506784\",\"showbackground\":true,\"ticks\":\"\",\"zerolinecolor\":\"#C8D4E3\",\"gridwidth\":2},\"zaxis\":{\"backgroundcolor\":\"rgb(17,17,17)\",\"gridcolor\":\"#506784\",\"linecolor\":\"#506784\",\"showbackground\":true,\"ticks\":\"\",\"zerolinecolor\":\"#C8D4E3\",\"gridwidth\":2}},\"shapedefaults\":{\"line\":{\"color\":\"#f2f5fa\"}},\"annotationdefaults\":{\"arrowcolor\":\"#f2f5fa\",\"arrowhead\":0,\"arrowwidth\":1},\"geo\":{\"bgcolor\":\"rgb(17,17,17)\",\"landcolor\":\"rgb(17,17,17)\",\"subunitcolor\":\"#506784\",\"showland\":true,\"showlakes\":true,\"lakecolor\":\"rgb(17,17,17)\"},\"title\":{\"x\":0.05},\"updatemenudefaults\":{\"bgcolor\":\"#506784\",\"borderwidth\":0},\"sliderdefaults\":{\"bgcolor\":\"#C8D4E3\",\"borderwidth\":1,\"bordercolor\":\"rgb(17,17,17)\",\"tickwidth\":0},\"mapbox\":{\"style\":\"dark\"}}},\"xaxis\":{\"anchor\":\"y\",\"domain\":[0.0,1.0],\"title\":{\"text\":\"x\"}},\"yaxis\":{\"anchor\":\"x\",\"domain\":[0.0,1.0],\"title\":{\"text\":\"y\"}},\"legend\":{\"tracegroupgap\":0},\"margin\":{\"t\":60}},                        {\"responsive\": true}                    ).then(function(){\n",
       "                            \n",
       "var gd = document.getElementById('4015186e-633c-4cfc-a9dc-e1e23579f68a');\n",
       "var x = new MutationObserver(function (mutations, observer) {{\n",
       "        var display = window.getComputedStyle(gd).display;\n",
       "        if (!display || display === 'none') {{\n",
       "            console.log([gd, 'removed!']);\n",
       "            Plotly.purge(gd);\n",
       "            observer.disconnect();\n",
       "        }}\n",
       "}});\n",
       "\n",
       "// Listen for the removal of the full notebook cells\n",
       "var notebookContainer = gd.closest('#notebook-container');\n",
       "if (notebookContainer) {{\n",
       "    x.observe(notebookContainer, {childList: true});\n",
       "}}\n",
       "\n",
       "// Listen for the clearing of the current output cell\n",
       "var outputEl = gd.closest('.output');\n",
       "if (outputEl) {{\n",
       "    x.observe(outputEl, {childList: true});\n",
       "}}\n",
       "\n",
       "                        })                };                });            </script>        </div>"
      ]
     },
     "metadata": {},
     "output_type": "display_data"
    },
    {
     "name": "stdout",
     "output_type": "stream",
     "text": [
      "                   time     open     high      low    close\n",
      "0   2023-05-22 16:00:00  1.08190  1.08241  1.07958  1.08094\n",
      "1   2023-05-22 20:00:00  1.08094  1.08212  1.08077  1.08124\n",
      "2   2023-05-23 00:00:00  1.08096  1.08203  1.08059  1.08114\n",
      "3   2023-05-23 04:00:00  1.08113  1.08116  1.08022  1.08099\n",
      "4   2023-05-23 08:00:00  1.08099  1.08126  1.07847  1.08029\n",
      "..                  ...      ...      ...      ...      ...\n",
      "164 2023-06-29 00:00:00  1.09113  1.09185  1.09008  1.09067\n",
      "165 2023-06-29 04:00:00  1.09067  1.09143  1.08803  1.08850\n",
      "166 2023-06-29 08:00:00  1.08850  1.09215  1.08838  1.09140\n",
      "167 2023-06-29 12:00:00  1.09144  1.09410  1.08728  1.08807\n",
      "168 2023-06-29 16:00:00  1.08808  1.08963  1.08598  1.08704\n",
      "\n",
      "[169 rows x 5 columns]\n"
     ]
    },
    {
     "data": {
      "text/plain": [
       "'h4'"
      ]
     },
     "execution_count": 13,
     "metadata": {},
     "output_type": "execute_result"
    }
   ],
   "source": [
    "# Get Candlestick\n",
    "timeframe = get_candlestick(\"h4\")\n",
    "timeframe\n"
   ]
  },
  {
   "cell_type": "code",
   "execution_count": 14,
   "metadata": {
    "ExecuteTime": {
     "end_time": "2023-07-04T11:22:02.497780600Z",
     "start_time": "2023-07-04T11:22:02.475778800Z"
    }
   },
   "outputs": [],
   "source": [
    "extract_rows(timeframe)"
   ]
  },
  {
   "cell_type": "code",
   "execution_count": 15,
   "metadata": {
    "ExecuteTime": {
     "end_time": "2023-07-04T11:22:03.730873400Z",
     "start_time": "2023-07-04T11:22:03.709872300Z"
    }
   },
   "outputs": [],
   "source": [
    "sum_sell = 0\n",
    "sum_buy = 0\n",
    "sum_hold = 0"
   ]
  },
  {
   "cell_type": "code",
   "execution_count": 16,
   "metadata": {
    "ExecuteTime": {
     "end_time": "2023-07-04T11:22:13.986447200Z",
     "start_time": "2023-07-04T11:22:04.507933500Z"
    }
   },
   "outputs": [
    {
     "name": "stderr",
     "output_type": "stream",
     "text": [
      "Prolog: Date and Time: 2023-06-02 20:00:00\n",
      "Prolog: Rule fired 18\n",
      "Prolog: Order: hold\n",
      "Prolog: \n",
      "Prolog: Date and Time: 2023-06-05 20:00:00\n",
      "Prolog: Rule fired 9\n",
      "Prolog: Order: hold\n",
      "Prolog: \n",
      "Prolog: Date and Time: 2023-06-06 20:00:00\n",
      "Prolog: Rule fired 18\n",
      "Prolog: Order: hold\n",
      "Prolog: \n",
      "Prolog: Date and Time: 2023-06-07 20:00:00\n",
      "Prolog: Rule fired 20\n",
      "Prolog: Order: hold\n",
      "Prolog: \n",
      "Prolog: Date and Time: 2023-06-08 20:00:00\n",
      "Prolog: Rule fired 3\n",
      "Prolog: Order: buy\n",
      "Prolog: \n",
      "Prolog: Date and Time: 2023-06-09 20:00:00\n",
      "Prolog: Rule fired 1\n",
      "Prolog: Order: buy\n",
      "Prolog: \n",
      "Prolog: Date and Time: 2023-06-12 20:00:00\n",
      "Prolog: Rule fired 2\n",
      "Prolog: Order: buy\n",
      "Prolog: \n",
      "Prolog: Date and Time: 2023-06-13 20:00:00\n",
      "Prolog: Rule fired 3\n",
      "Prolog: Order: buy\n",
      "Prolog: \n",
      "Prolog: Date and Time: 2023-06-14 20:00:00\n",
      "Prolog: Rule fired 3\n",
      "Prolog: Order: buy\n",
      "Prolog: \n",
      "Prolog: Date and Time: 2023-06-15 20:00:00\n",
      "Prolog: Rule fired 2\n",
      "Prolog: Order: buy\n",
      "Prolog: \n",
      "Prolog: Date and Time: 2023-06-16 20:00:00\n",
      "Prolog: Rule fired 2\n",
      "Prolog: Order: buy\n",
      "Prolog: \n",
      "Prolog: Date and Time: 2023-06-19 20:00:00\n",
      "Prolog: Rule fired 1\n",
      "Prolog: Order: buy\n",
      "Prolog: \n",
      "Prolog: Date and Time: 2023-06-20 20:00:00\n",
      "Prolog: Rule fired 18\n",
      "Prolog: Order: hold\n",
      "Prolog: \n",
      "Prolog: Date and Time: 2023-06-21 20:00:00\n",
      "Prolog: Rule fired 2\n",
      "Prolog: Order: buy\n",
      "Prolog: \n",
      "Prolog: Date and Time: 2023-06-22 20:00:00\n",
      "Prolog: Rule fired 1\n",
      "Prolog: Order: buy\n",
      "Prolog: \n",
      "Prolog: Date and Time: 2023-06-23 20:00:00\n",
      "Prolog: Rule fired 18\n",
      "Prolog: Order: hold\n",
      "Prolog: \n",
      "Prolog: Date and Time: 2023-06-26 20:00:00\n",
      "Prolog: Rule fired 18\n",
      "Prolog: Order: hold\n",
      "Prolog: \n",
      "Prolog: Date and Time: 2023-06-27 20:00:00\n",
      "Prolog: Rule fired 13\n",
      "Prolog: Order: buy\n",
      "Prolog: \n",
      "Prolog: Date and Time: 2023-06-28 20:00:00\n",
      "Prolog: Rule fired 18\n",
      "Prolog: Order: hold\n",
      "Prolog: \n",
      "Prolog: Date and Time: 2023-06-29 16:00:00\n",
      "Prolog: Rule fired 16\n",
      "Prolog: Order: sell\n",
      "Prolog: \n"
     ]
    },
    {
     "name": "stdout",
     "output_type": "stream",
     "text": [
      "ohlc_data_full.csv is empty. Stopping criterion met.\n"
     ]
    }
   ],
   "source": [
    "while extract_and_update_data(timeframe):\n",
    "\n",
    "    resultOrder, resultTime = expert_system()\n",
    "\n",
    "    if resultOrder == 'sell':\n",
    "        sum_sell = sum_sell + 1\n",
    "    elif resultOrder == 'buy':\n",
    "        sum_buy = sum_buy + 1\n",
    "    elif resultOrder == 'hold':\n",
    "        sum_hold = sum_hold + 1\n",
    "    else:\n",
    "        sum_hold = sum_hold + 1"
   ]
  },
  {
   "cell_type": "code",
   "execution_count": 17,
   "metadata": {
    "ExecuteTime": {
     "end_time": "2023-07-04T11:22:19.329286400Z",
     "start_time": "2023-07-04T11:22:19.312285400Z"
    }
   },
   "outputs": [
    {
     "name": "stdout",
     "output_type": "stream",
     "text": [
      "Sell:  1\n",
      "Buy:  11\n",
      "Hold:  8\n"
     ]
    }
   ],
   "source": [
    "print(\"Sell: \", sum_sell)\n",
    "print(\"Buy: \", sum_buy)\n",
    "print(\"Hold: \", sum_hold)\n"
   ]
  },
  {
   "cell_type": "code",
   "execution_count": 18,
   "metadata": {
    "ExecuteTime": {
     "end_time": "2023-07-04T11:22:22.364540600Z",
     "start_time": "2023-07-04T11:22:22.286534600Z"
    }
   },
   "outputs": [
    {
     "name": "stdout",
     "output_type": "stream",
     "text": [
      "Sell:  5.0 %\n",
      "Buy:  55.00000000000001 %\n",
      "Hold:  40.0 %\n"
     ]
    }
   ],
   "source": [
    "total_sum = sum_sell + sum_buy + sum_hold\n",
    "\n",
    "sell_percentage = (sum_sell / total_sum) * 100\n",
    "buy_percentage = (sum_buy / total_sum) * 100\n",
    "hold_percentage = (sum_hold / total_sum) * 100\n",
    "\n",
    "print(\"Sell: \", sell_percentage, \"%\")\n",
    "print(\"Buy: \", buy_percentage, \"%\")\n",
    "print(\"Hold: \", hold_percentage, \"%\")"
   ]
  }
 ],
 "metadata": {
  "kernelspec": {
   "display_name": "carlcv",
   "language": "python",
   "name": "python3"
  },
  "language_info": {
   "codemirror_mode": {
    "name": "ipython",
    "version": 3
   },
   "file_extension": ".py",
   "mimetype": "text/x-python",
   "name": "python",
   "nbconvert_exporter": "python",
   "pygments_lexer": "ipython3",
   "version": "3.10.9"
  },
  "orig_nbformat": 4
 },
 "nbformat": 4,
 "nbformat_minor": 2
}
